{
 "cells": [
  {
   "cell_type": "code",
   "execution_count": 1,
   "id": "6fbbac32-6fab-48b1-9776-cce22036a582",
   "metadata": {},
   "outputs": [],
   "source": [
    "import pandas as pd"
   ]
  },
  {
   "cell_type": "code",
   "execution_count": 2,
   "id": "71ed195e-38e1-46f5-a7ed-7c9d6fc57c02",
   "metadata": {},
   "outputs": [],
   "source": [
    "# Original DataFrame\n",
    "data = {\n",
    "    'Name': ['Alice', 'Bob', 'Charlie', 'David'],\n",
    "    'Math Score': [85, 92, 78, 88],\n",
    "    'English Score': [90, 86, 92, 80]\n",
    "}\n",
    "\n",
    "df = pd.DataFrame(data)"
   ]
  },
  {
   "cell_type": "code",
   "execution_count": 3,
   "id": "589836d7-43b0-45dd-9242-2e6bb1dd3807",
   "metadata": {},
   "outputs": [
    {
     "data": {
      "text/html": [
       "<div>\n",
       "<style scoped>\n",
       "    .dataframe tbody tr th:only-of-type {\n",
       "        vertical-align: middle;\n",
       "    }\n",
       "\n",
       "    .dataframe tbody tr th {\n",
       "        vertical-align: top;\n",
       "    }\n",
       "\n",
       "    .dataframe thead th {\n",
       "        text-align: right;\n",
       "    }\n",
       "</style>\n",
       "<table border=\"1\" class=\"dataframe\">\n",
       "  <thead>\n",
       "    <tr style=\"text-align: right;\">\n",
       "      <th></th>\n",
       "      <th>Name</th>\n",
       "      <th>Math Score</th>\n",
       "      <th>English Score</th>\n",
       "    </tr>\n",
       "  </thead>\n",
       "  <tbody>\n",
       "    <tr>\n",
       "      <th>0</th>\n",
       "      <td>Alice</td>\n",
       "      <td>85</td>\n",
       "      <td>90</td>\n",
       "    </tr>\n",
       "    <tr>\n",
       "      <th>1</th>\n",
       "      <td>Bob</td>\n",
       "      <td>92</td>\n",
       "      <td>86</td>\n",
       "    </tr>\n",
       "    <tr>\n",
       "      <th>2</th>\n",
       "      <td>Charlie</td>\n",
       "      <td>78</td>\n",
       "      <td>92</td>\n",
       "    </tr>\n",
       "    <tr>\n",
       "      <th>3</th>\n",
       "      <td>David</td>\n",
       "      <td>88</td>\n",
       "      <td>80</td>\n",
       "    </tr>\n",
       "  </tbody>\n",
       "</table>\n",
       "</div>"
      ],
      "text/plain": [
       "      Name  Math Score  English Score\n",
       "0    Alice          85             90\n",
       "1      Bob          92             86\n",
       "2  Charlie          78             92\n",
       "3    David          88             80"
      ]
     },
     "execution_count": 3,
     "metadata": {},
     "output_type": "execute_result"
    }
   ],
   "source": [
    "df"
   ]
  },
  {
   "cell_type": "code",
   "execution_count": 4,
   "id": "c096783f-b01f-4d50-9c14-fac171f943e2",
   "metadata": {},
   "outputs": [
    {
     "name": "stdout",
     "output_type": "stream",
     "text": [
      "Charlie's English Score: 92\n"
     ]
    }
   ],
   "source": [
    "# Task 1: Retrieve the English score of 'Charlie'\n",
    "\n",
    "charlie_english_score = df.loc[df['Name'] == 'Charlie', 'English Score'].values[0]\n",
    "print(\"Charlie's English Score:\", charlie_english_score)"
   ]
  },
  {
   "cell_type": "code",
   "execution_count": 5,
   "id": "d32609bd-b632-4bf0-8172-a08c2ace2d6a",
   "metadata": {},
   "outputs": [
    {
     "name": "stdout",
     "output_type": "stream",
     "text": [
      "\n",
      "Math Scores of all students:\n",
      " 0    85\n",
      "1    92\n",
      "2    78\n",
      "3    88\n",
      "Name: Math Score, dtype: int64\n"
     ]
    }
   ],
   "source": [
    "# Task 2: Get the Math scores of all students\n",
    "\n",
    "math_scores = df['Math Score']\n",
    "print(\"\\nMath Scores of all students:\\n\", math_scores)"
   ]
  },
  {
   "cell_type": "code",
   "execution_count": 6,
   "id": "00b75bc6-823b-4bc3-bcde-3441fb3e3f05",
   "metadata": {},
   "outputs": [
    {
     "name": "stdout",
     "output_type": "stream",
     "text": [
      "\n",
      "English Score of the first student (Alice): 90\n"
     ]
    }
   ],
   "source": [
    "# Task 3: Access the English score of the first student\n",
    "\n",
    "first_student_english_score = df.loc[0, 'English Score']\n",
    "print(\"\\nEnglish Score of the first student (Alice):\", first_student_english_score)"
   ]
  },
  {
   "cell_type": "code",
   "execution_count": 7,
   "id": "8db16d5b-3077-4281-a5d6-4448021c254d",
   "metadata": {},
   "outputs": [
    {
     "name": "stdout",
     "output_type": "stream",
     "text": [
      "\n",
      "Math Score of the last student (David): 88\n"
     ]
    }
   ],
   "source": [
    "# Task 4: Retrieve the Math score of the last student\n",
    "\n",
    "last_student_math_score = df.iloc[-1]['Math Score']\n",
    "print(\"\\nMath Score of the last student (David):\", last_student_math_score)"
   ]
  },
  {
   "cell_type": "code",
   "execution_count": 8,
   "id": "8e78809e-8cbf-4bd2-9c41-fd08e5390f36",
   "metadata": {},
   "outputs": [
    {
     "name": "stdout",
     "output_type": "stream",
     "text": [
      "\n",
      "Updated Bob's Math Score:\n",
      "       Name  Math Score  English Score\n",
      "0    Alice          85             90\n",
      "1      Bob          95             86\n",
      "2  Charlie          78             92\n",
      "3    David          88             80\n"
     ]
    }
   ],
   "source": [
    "# Task 5: Update Bob's Math score to 95\n",
    "\n",
    "df.loc[df['Name'] == 'Bob', 'Math Score'] = 95\n",
    "print(\"\\nUpdated Bob's Math Score:\\n\", df)"
   ]
  },
  {
   "cell_type": "code",
   "execution_count": 9,
   "id": "49919d26-c154-4b89-bd0c-e19d9349e55c",
   "metadata": {},
   "outputs": [
    {
     "name": "stdout",
     "output_type": "stream",
     "text": [
      "\n",
      "Increased Charlie's English Score:\n",
      "       Name  Math Score  English Score\n",
      "0    Alice          85             90\n",
      "1      Bob          95             86\n",
      "2  Charlie          78             97\n",
      "3    David          88             80\n"
     ]
    }
   ],
   "source": [
    "# Task 6: Increase Charlie's English score by 5 points\n",
    "\n",
    "df.loc[df['Name'] == 'Charlie', 'English Score'] += 5\n",
    "print(\"\\nIncreased Charlie's English Score:\\n\", df)"
   ]
  },
  {
   "cell_type": "code",
   "execution_count": 10,
   "id": "60bc1567-ad6a-43f5-9ff7-c1a987a1d67e",
   "metadata": {},
   "outputs": [
    {
     "name": "stdout",
     "output_type": "stream",
     "text": [
      "\n",
      "Added Eve to the DataFrame:\n",
      "       Name  Math Score  English Score\n",
      "0    Alice          85             90\n",
      "1      Bob          95             86\n",
      "2  Charlie          78             97\n",
      "3    David          88             80\n",
      "4      Eve          88             95\n"
     ]
    }
   ],
   "source": [
    "# Task 7: Add a new row for 'Eve' with Math Score 88 and English Score 95\n",
    "\n",
    "new_row = pd.DataFrame({'Name': ['Eve'], 'Math Score': [88], 'English Score': [95]})\n",
    "df = pd.concat([df, new_row], ignore_index=True)\n",
    "print(\"\\nAdded Eve to the DataFrame:\\n\", df)"
   ]
  },
  {
   "cell_type": "code",
   "execution_count": 11,
   "id": "a64bb074-89db-4ae5-8460-c4d4ad94d029",
   "metadata": {},
   "outputs": [
    {
     "name": "stdout",
     "output_type": "stream",
     "text": [
      "\n",
      "Deleted David's row:\n",
      "       Name  Math Score  English Score\n",
      "0    Alice          85             90\n",
      "1      Bob          95             86\n",
      "2  Charlie          78             97\n",
      "4      Eve          88             95\n"
     ]
    }
   ],
   "source": [
    "# Task 8: Delete the row for 'David' from the DataFrame\n",
    "\n",
    "df = df[df['Name'] != 'David']\n",
    "print(\"\\nDeleted David's row:\\n\", df)"
   ]
  },
  {
   "cell_type": "code",
   "execution_count": 12,
   "id": "fcbb5bfb-b320-4f96-b70f-d48a02b4a8f7",
   "metadata": {},
   "outputs": [
    {
     "name": "stdout",
     "output_type": "stream",
     "text": [
      "\n",
      "Added 'Science Score' column:\n",
      "       Name  Math Score  English Score  Science Score\n",
      "0    Alice          85             90             92\n",
      "1      Bob          95             86             84\n",
      "2  Charlie          78             97             89\n",
      "4      Eve          88             95             78\n"
     ]
    }
   ],
   "source": [
    "# Task 9: Insert a new column called 'Science Score' with values [92, 84, 89, 78]\n",
    "\n",
    "df['Science Score'] = [92, 84, 89, 78]\n",
    "print(\"\\nAdded 'Science Score' column:\\n\", df)"
   ]
  },
  {
   "cell_type": "code",
   "execution_count": 13,
   "id": "2763297d-3430-43f1-9f78-790948dcd305",
   "metadata": {},
   "outputs": [
    {
     "name": "stdout",
     "output_type": "stream",
     "text": [
      "\n",
      "Deleted 'English Score' column:\n",
      "       Name  Math Score  Science Score\n",
      "0    Alice          85             92\n",
      "1      Bob          95             84\n",
      "2  Charlie          78             89\n",
      "4      Eve          88             78\n"
     ]
    }
   ],
   "source": [
    "# Task 10: Delete the 'English Score' column from the DataFrame\n",
    "\n",
    "df = df.drop('English Score', axis=1)\n",
    "print(\"\\nDeleted 'English Score' column:\\n\", df)"
   ]
  },
  {
   "cell_type": "code",
   "execution_count": 14,
   "id": "95ea202e-0741-40dd-9543-5d4e1813e1d1",
   "metadata": {},
   "outputs": [
    {
     "name": "stdout",
     "output_type": "stream",
     "text": [
      "\n",
      "Created 'Total Score' column:\n",
      "       Name  Math Score  Science Score  Total Score\n",
      "0    Alice          85             92          177\n",
      "1      Bob          95             84          179\n",
      "2  Charlie          78             89          167\n",
      "4      Eve          88             78          166\n"
     ]
    }
   ],
   "source": [
    "# Task 11: Create a new column 'Total Score' that represents the sum of Math Score and Science Score\n",
    "\n",
    "df['Total Score'] = df['Math Score'] + df['Science Score']\n",
    "print(\"\\nCreated 'Total Score' column:\\n\", df)"
   ]
  },
  {
   "cell_type": "code",
   "execution_count": 15,
   "id": "70cdab12-1342-4488-a2d4-40010824d2ef",
   "metadata": {},
   "outputs": [
    {
     "name": "stdout",
     "output_type": "stream",
     "text": [
      "\n",
      "Student with the highest Total Score:\n",
      " Name             Bob\n",
      "Math Score        95\n",
      "Science Score     84\n",
      "Total Score      179\n",
      "Name: 1, dtype: object\n"
     ]
    }
   ],
   "source": [
    "# Task 12: Find the student with the highest Total Score\n",
    "\n",
    "highest_total_score_student = df.loc[df['Total Score'].idxmax()]\n",
    "print(\"\\nStudent with the highest Total Score:\\n\", highest_total_score_student)"
   ]
  },
  {
   "cell_type": "code",
   "execution_count": 16,
   "id": "3f3b56d4-c95e-4b2e-b9be-97c88d9a0626",
   "metadata": {},
   "outputs": [],
   "source": [
    "# Second DataFrame\n",
    "\n",
    "data2 = {\n",
    "    'Name': ['Eve', 'Frank'],\n",
    "    'Math Score': [87, 76],\n",
    "    'English Score': [94, 82]\n",
    "}\n",
    "\n",
    "df2 = pd.DataFrame(data2)"
   ]
  },
  {
   "cell_type": "code",
   "execution_count": 17,
   "id": "c3e6cff3-cd56-4c9d-b3ca-6ff6813f09df",
   "metadata": {},
   "outputs": [
    {
     "name": "stdout",
     "output_type": "stream",
     "text": [
      "\n",
      "Combined DataFrame:\n",
      "       Name  Math Score  Science Score  Total Score  English Score\n",
      "0    Alice          85           92.0        177.0            NaN\n",
      "1      Bob          95           84.0        179.0            NaN\n",
      "2  Charlie          78           89.0        167.0            NaN\n",
      "3      Eve          88           78.0        166.0            NaN\n",
      "4      Eve          87            NaN          NaN           94.0\n",
      "5    Frank          76            NaN          NaN           82.0\n"
     ]
    }
   ],
   "source": [
    "# Combine df2 with the original DataFrame df\n",
    "\n",
    "combined_df = pd.concat([df, df2], ignore_index=True)\n",
    "print(\"\\nCombined DataFrame:\\n\", combined_df)"
   ]
  }
 ],
 "metadata": {
  "kernelspec": {
   "display_name": "Python 3 (ipykernel)",
   "language": "python",
   "name": "python3"
  },
  "language_info": {
   "codemirror_mode": {
    "name": "ipython",
    "version": 3
   },
   "file_extension": ".py",
   "mimetype": "text/x-python",
   "name": "python",
   "nbconvert_exporter": "python",
   "pygments_lexer": "ipython3",
   "version": "3.11.7"
  }
 },
 "nbformat": 4,
 "nbformat_minor": 5
}
